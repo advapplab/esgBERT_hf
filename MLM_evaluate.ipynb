{
  "cells": [
    {
      "cell_type": "markdown",
      "metadata": {
        "id": "view-in-github",
        "colab_type": "text"
      },
      "source": [
        "<a href=\"https://colab.research.google.com/github/advapplab/esgBERT_hf/blob/main/MLM_evaluate.ipynb\" target=\"_parent\"><img src=\"https://colab.research.google.com/assets/colab-badge.svg\" alt=\"Open In Colab\"/></a>"
      ]
    },
    {
      "cell_type": "code",
      "source": [
        "!pip install awscli"
      ],
      "metadata": {
        "id": "wVLyZyJNKHZb"
      },
      "id": "wVLyZyJNKHZb",
      "execution_count": null,
      "outputs": []
    },
    {
      "cell_type": "code",
      "source": [
        "import os\n",
        "\n",
        "!export AWS_SHARED_CREDENTIALS_FILE = /content/awscli.ini\n",
        "\n",
        "path = \"/content/awscli.ini\"\n",
        "os.environ['AWS_SHARED_CREDENTIALS_FILE'] = path\n",
        "print(os.environ['AWS_SHARED_CREDENTIALS_FILE'])"
      ],
      "metadata": {
        "id": "FbD-en7AKHS5"
      },
      "id": "FbD-en7AKHS5",
      "execution_count": null,
      "outputs": []
    },
    {
      "cell_type": "code",
      "source": [
        "!aws s3 cp s3://esg-bert-pretraining/pretraining_testingdata.csv /content/"
      ],
      "metadata": {
        "id": "SgBsVdh9KMkZ"
      },
      "id": "SgBsVdh9KMkZ",
      "execution_count": null,
      "outputs": []
    },
    {
      "cell_type": "code",
      "source": [
        "!pip install transformers datasets pandas numpy evaluate"
      ],
      "metadata": {
        "id": "M7ArGmocKMiY"
      },
      "id": "M7ArGmocKMiY",
      "execution_count": null,
      "outputs": []
    },
    {
      "cell_type": "code",
      "execution_count": null,
      "id": "b90554a1-4fd4-4c99-adf5-0db9e5716f4d",
      "metadata": {
        "id": "b90554a1-4fd4-4c99-adf5-0db9e5716f4d"
      },
      "outputs": [],
      "source": [
        "import datasets\n",
        "import pandas as pd\n",
        "input_df = pd.read_csv('pretraining_testingdata.csv', encoding = 'ISO-8859-1')\n",
        "input_df = input_df[['content']]\n",
        "\n",
        "raw_datasets = datasets.DatasetDict(\n",
        "    {\n",
        "        \"evaluate\": datasets.Dataset.from_pandas(input_df)\n",
        "    }\n",
        ")"
      ]
    },
    {
      "cell_type": "code",
      "execution_count": null,
      "id": "0c2c1e93-253b-4632-bb15-42ff294ae07b",
      "metadata": {
        "id": "0c2c1e93-253b-4632-bb15-42ff294ae07b"
      },
      "outputs": [],
      "source": [
        "from transformers import BertTokenizer\n",
        "context_length = 128\n",
        "model_checkpoint = \"bert-base-uncased\"\n",
        "tokenizer = BertTokenizer.from_pretrained(model_checkpoint)"
      ]
    },
    {
      "cell_type": "code",
      "execution_count": null,
      "id": "5a24c88e-45fd-4d8b-a719-dc2ba2405213",
      "metadata": {
        "colab": {
          "referenced_widgets": [
            "15019d518070434980d5a1ae1832a7e8"
          ]
        },
        "id": "5a24c88e-45fd-4d8b-a719-dc2ba2405213",
        "outputId": "fd4742b5-b1cb-4371-f64d-1f29ebc4dfb5"
      },
      "outputs": [
        {
          "data": {
            "application/json": {
              "ascii": false,
              "bar_format": null,
              "colour": null,
              "elapsed": 0.012146949768066406,
              "initial": 0,
              "n": 0,
              "ncols": null,
              "nrows": 25,
              "postfix": null,
              "prefix": "",
              "rate": null,
              "total": 300,
              "unit": "ex",
              "unit_divisor": 1000,
              "unit_scale": false
            },
            "application/vnd.jupyter.widget-view+json": {
              "model_id": "15019d518070434980d5a1ae1832a7e8",
              "version_major": 2,
              "version_minor": 0
            },
            "text/plain": [
              "  0%|          | 0/300 [00:00<?, ?ex/s]"
            ]
          },
          "metadata": {},
          "output_type": "display_data"
        }
      ],
      "source": [
        "def tokenize_function(texts):\n",
        "    return tokenizer(texts[\"content\"], padding=\"max_length\", truncation=True) # max_length=context_length\n",
        "\n",
        "tokenized_datasets = raw_datasets.map(tokenize_function)"
      ]
    },
    {
      "cell_type": "code",
      "execution_count": null,
      "id": "e2ac3223-a38c-45b3-977e-51efdb71c332",
      "metadata": {
        "id": "e2ac3223-a38c-45b3-977e-51efdb71c332",
        "outputId": "8b905fe0-c058-4a81-9399-1f35aac27dd1"
      },
      "outputs": [
        {
          "data": {
            "text/plain": [
              "DatasetDict({\n",
              "    evaluate: Dataset({\n",
              "        features: ['content', 'input_ids', 'token_type_ids', 'attention_mask'],\n",
              "        num_rows: 300\n",
              "    })\n",
              "})"
            ]
          },
          "execution_count": 4,
          "metadata": {},
          "output_type": "execute_result"
        }
      ],
      "source": [
        "tokenized_datasets"
      ]
    },
    {
      "cell_type": "code",
      "execution_count": null,
      "id": "d546a813-2172-4ff6-a2ec-10f28bb826a8",
      "metadata": {
        "id": "d546a813-2172-4ff6-a2ec-10f28bb826a8",
        "outputId": "ddb3967f-21c4-4c0f-e7b9-b93b8b4033a6"
      },
      "outputs": [
        {
          "data": {
            "text/plain": [
              "Dataset({\n",
              "    features: ['content', 'input_ids', 'token_type_ids', 'attention_mask'],\n",
              "    num_rows: 256\n",
              "})"
            ]
          },
          "execution_count": 5,
          "metadata": {},
          "output_type": "execute_result"
        }
      ],
      "source": [
        "eval_dataset = tokenized_datasets['evaluate'].shuffle(seed=42).select(range(256))\n",
        "eval_dataset"
      ]
    },
    {
      "cell_type": "code",
      "execution_count": null,
      "id": "4d862e52-63ef-4fd0-8c3b-b313068f506e",
      "metadata": {
        "id": "4d862e52-63ef-4fd0-8c3b-b313068f506e",
        "outputId": "30fccc48-6478-442c-f4d6-98f5cac13809"
      },
      "outputs": [
        {
          "name": "stderr",
          "output_type": "stream",
          "text": [
            "Some weights of the model checkpoint at bert-base-uncased were not used when initializing BertForMaskedLM: ['cls.seq_relationship.bias', 'cls.seq_relationship.weight']\n",
            "- This IS expected if you are initializing BertForMaskedLM from the checkpoint of a model trained on another task or with another architecture (e.g. initializing a BertForSequenceClassification model from a BertForPreTraining model).\n",
            "- This IS NOT expected if you are initializing BertForMaskedLM from the checkpoint of a model that you expect to be exactly identical (initializing a BertForSequenceClassification model from a BertForSequenceClassification model).\n"
          ]
        }
      ],
      "source": [
        "from transformers import BertForMaskedLM\n",
        "model = BertForMaskedLM.from_pretrained(model_checkpoint)"
      ]
    },
    {
      "cell_type": "code",
      "execution_count": null,
      "id": "dbc738de-6aaa-4a9f-ac06-1a1e7c1ebd98",
      "metadata": {
        "id": "dbc738de-6aaa-4a9f-ac06-1a1e7c1ebd98"
      },
      "outputs": [],
      "source": [
        "from transformers import TrainingArguments\n",
        "\n",
        "training_args = TrainingArguments(\"test_trainer\")"
      ]
    },
    {
      "cell_type": "code",
      "execution_count": null,
      "id": "4c8c5e00-1110-405f-94ca-5d4543bfa41e",
      "metadata": {
        "id": "4c8c5e00-1110-405f-94ca-5d4543bfa41e"
      },
      "outputs": [],
      "source": [
        "from transformers import DataCollatorForLanguageModeling\n",
        "\n",
        "data_collator = DataCollatorForLanguageModeling(tokenizer=tokenizer, mlm=True, mlm_probability=0.15)"
      ]
    },
    {
      "cell_type": "code",
      "execution_count": null,
      "id": "849f2585-7b12-4e96-99a4-7dd7878f819a",
      "metadata": {
        "id": "849f2585-7b12-4e96-99a4-7dd7878f819a"
      },
      "outputs": [],
      "source": [
        "import numpy as np\n",
        "import evaluate\n",
        "\n",
        "metric = evaluate.load(\"accuracy\")\n",
        "\n",
        "def compute_metrics(eval_pred):\n",
        "    predictions, targets = eval_pred.predictions, eval_pred.label_ids\n",
        "    maxProbInds = np.argmax(predictions, axis=-1)\n",
        "    \n",
        "    mask_pos_preds =  maxProbInds[tuple([targets != -100])]\n",
        "    mask_pos_targets = targets[tuple([targets != -100])]\n",
        "    \n",
        "    # python (no numpy)\n",
        "    # mask_pos_preds, mask_pos_targets = [], []\n",
        "    # seq_count, seq_len = targets.shape\n",
        "    # for s in range(seq_count):\n",
        "    #     for t in range(seq_len):\n",
        "    #         if targets[s][t] != -100:\n",
        "    #             mask_pos_preds.append(maxProbInds[s][t])\n",
        "    #             mask_pos_targets.append(targets[s][t])\n",
        "    \n",
        "    return metric.compute(predictions=mask_pos_preds, references=mask_pos_targets)"
      ]
    },
    {
      "cell_type": "code",
      "execution_count": null,
      "id": "54a38418-224f-473b-95a9-37886cc8a07a",
      "metadata": {
        "id": "54a38418-224f-473b-95a9-37886cc8a07a",
        "outputId": "26e6ec1c-148c-4946-8306-bec96d265df8"
      },
      "outputs": [
        {
          "name": "stderr",
          "output_type": "stream",
          "text": [
            "The following columns in the evaluation set don't have a corresponding argument in `BertForMaskedLM.forward` and have been ignored: content. If content are not expected by `BertForMaskedLM.forward`,  you can safely ignore this message.\n",
            "***** Running Evaluation *****\n",
            "  Num examples = 256\n",
            "  Batch size = 8\n"
          ]
        },
        {
          "data": {
            "text/html": [
              "\n",
              "    <div>\n",
              "      \n",
              "      <progress value='32' max='32' style='width:300px; height:20px; vertical-align: middle;'></progress>\n",
              "      [32/32 02:53]\n",
              "    </div>\n",
              "    "
            ],
            "text/plain": [
              "<IPython.core.display.HTML object>"
            ]
          },
          "metadata": {},
          "output_type": "display_data"
        },
        {
          "data": {
            "text/plain": [
              "{'eval_loss': 2.558933973312378,\n",
              " 'eval_accuracy': 0.5535665257262095,\n",
              " 'eval_runtime': 198.9284,\n",
              " 'eval_samples_per_second': 1.287,\n",
              " 'eval_steps_per_second': 0.161}"
            ]
          },
          "execution_count": 10,
          "metadata": {},
          "output_type": "execute_result"
        }
      ],
      "source": [
        "from transformers import Trainer\n",
        "\n",
        "trainer = Trainer(\n",
        "    model=model,\n",
        "    args=training_args,\n",
        "    eval_dataset=eval_dataset,\n",
        "    compute_metrics=compute_metrics,\n",
        "    data_collator=data_collator\n",
        ")\n",
        "trainer.evaluate()"
      ]
    }
  ],
  "metadata": {
    "kernelspec": {
      "display_name": "Python 3 (ipykernel)",
      "language": "python",
      "name": "python3"
    },
    "language_info": {
      "codemirror_mode": {
        "name": "ipython",
        "version": 3
      },
      "file_extension": ".py",
      "mimetype": "text/x-python",
      "name": "python",
      "nbconvert_exporter": "python",
      "pygments_lexer": "ipython3",
      "version": "3.10.6"
    },
    "colab": {
      "provenance": [],
      "include_colab_link": true
    }
  },
  "nbformat": 4,
  "nbformat_minor": 5
}